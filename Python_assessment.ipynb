{
 "cells": [
  {
   "cell_type": "code",
   "execution_count": null,
   "metadata": {},
   "outputs": [],
   "source": [
    "# 1. Write a program to display only those numbers from a list that satisfy the following\n",
    "#  conditions:\n",
    "#  The number must be divisible by five If the number is greater than 150, then skip it\n",
    "#  and move to the next number If the number is greater than 500, then stop the loop\n",
    "#  Given:\n",
    "#  numbers = [12, 75, 150, 180, 145, 525, 50]\n",
    "\n",
    "# ANSWER:-\n",
    "\n",
    "numbers = [12, 75, 150, 180, 145, 525, 50]\n",
    "new_numbers =[]\n",
    "for i in numbers:\n",
    "    if i>500 :\n",
    "        break\n",
    "    elif i>150:\n",
    "        continue\n",
    "    new_numbers.append(i)\n",
    "print(new_numbers)\n"
   ]
  },
  {
   "cell_type": "code",
   "execution_count": null,
   "metadata": {},
   "outputs": [],
   "source": [
    "#  2. Write a program to calculate the sum of series up to n term.\n",
    "# For example, if n =5 ,the series will become 2 + 22 + 222 + 2222 + 22222 = 24690\n",
    "\n",
    "\n",
    "\n",
    "# Answer:\n",
    "\n",
    "number = int(input('Enter the number'))\n",
    "number_of_terms = int(input('Enter number of terms'))\n",
    "number2=int(number)\n",
    "\n",
    "def sum_of_series(number,number_of_terms,number2):\n",
    "    sum = 0\n",
    "    for i in range(0, number_of_terms):\n",
    "        print(number,'+', end=' ')\n",
    "        sum += number\n",
    "        number = (number * 10) + number2\n",
    "    print('\\nSum of a series is =', sum)\n",
    "        \n",
    "        \n",
    "sum_of_series(number,number_of_terms,number2)"
   ]
  },
  {
   "cell_type": "code",
   "execution_count": null,
   "metadata": {},
   "outputs": [],
   "source": [
    "# Write a program to find out the prime factors of a number\n",
    "\n",
    "# Answer:\n",
    "\n",
    "number =int(input('enter the number'))\n",
    "list=[]\n",
    "for i in range(2,number+1):\n",
    "    if number%i==0:\n",
    "        \n",
    "        list.append(i)\n",
    "        \n",
    "print('\\nfactors are ',list)\n",
    "\n",
    "list2=[]\n",
    "\n",
    "for i in list:\n",
    "    count =0\n",
    "    for j in range (2,i):\n",
    "        if i%j==0:\n",
    "            count=count+1\n",
    "            break\n",
    "            \n",
    "    if count==0:\n",
    "            list2.append(i)   \n",
    "            \n",
    "print('\\nprime factors are')\n",
    "print(list2)"
   ]
  },
  {
   "cell_type": "code",
   "execution_count": 1,
   "metadata": {},
   "outputs": [
    {
     "name": "stdout",
     "output_type": "stream",
     "text": [
      "Product is \n"
     ]
    },
    {
     "data": {
      "text/plain": [
       "60"
      ]
     },
     "execution_count": 1,
     "metadata": {},
     "output_type": "execute_result"
    }
   ],
   "source": [
    "# 4.Write a function prodDigits() that inputs a number and returns the product\n",
    "#  of digits of that number\n",
    "\n",
    "# Answer:\n",
    "\n",
    "def prodDigits(number) :\n",
    "    product =1\n",
    "    while (number>=1):\n",
    "        remainder= int(number%10)\n",
    "        quotient=number//10 \n",
    "        number=quotient\n",
    "        product =product*remainder\n",
    "\n",
    "    return  product\n",
    "    \n",
    "    \n",
    "number =int(input('enter number'))\n",
    "print('Product is ')\n",
    "prodDigits(number)"
   ]
  },
  {
   "cell_type": "code",
   "execution_count": null,
   "metadata": {},
   "outputs": [],
   "source": [
    "\n",
    "# A number is called perfect if the sum of proper divisors of that number is equal to the number. \n",
    "# For example 28 is perfect number, since 1+2+4+7+14=28.\n",
    "# Write a program to print all the perfect numbers in a given range:\n",
    "\n",
    "# answer:\n",
    "\n",
    "def perfect_number(low_range,High_range):\n",
    "     print('perfect numbers are')\n",
    "     for number in range (low_range,High_range):\n",
    "          sum=0\n",
    "\n",
    "          for j in range(1,(number//2)+1):\n",
    "               if number%j==0:\n",
    "                    sum=sum+j\n",
    "                    \n",
    "          if sum==number:\n",
    "               print(number,end=\" \")\n",
    "\n",
    "low_range=int(input('enter min range'))\n",
    "High_range=int(input('enter max range'))\n",
    "\n",
    "perfect_number(low_range,High_range)"
   ]
  }
 ],
 "metadata": {
  "kernelspec": {
   "display_name": "base",
   "language": "python",
   "name": "python3"
  },
  "language_info": {
   "codemirror_mode": {
    "name": "ipython",
    "version": 3
   },
   "file_extension": ".py",
   "mimetype": "text/x-python",
   "name": "python",
   "nbconvert_exporter": "python",
   "pygments_lexer": "ipython3",
   "version": "3.11.5"
  }
 },
 "nbformat": 4,
 "nbformat_minor": 2
}
